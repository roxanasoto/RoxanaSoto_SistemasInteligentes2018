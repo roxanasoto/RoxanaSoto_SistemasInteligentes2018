{
 "cells": [
  {
   "cell_type": "markdown",
   "metadata": {},
   "source": [
    "<img src = \"logo-ucsp.png\" alt=\"logo-ucsp\" height=\"250\" width=\"250\" align = \"right\">  \n",
    "**<font color=blue> MAESTRIA EN CIENCIAS DE LA COMPUTACIÓN </font>**  \n",
    "**<font color=blue> CURSO DE SISTEMAS INTELIGENTES </font>**  \n",
    "**<font color=blue> PROFESOR: DR. JOSE OCHOA LUNA </font>**  \n",
    "<font color=blue> ALUMNA : ROXANA SOTO BARRERA </font>  \n",
    "____________________________________________________________________________________________"
   ]
  },
  {
   "cell_type": "markdown",
   "metadata": {},
   "source": [
    "# HMM to Named Entity Recognition en Español"
   ]
  },
  {
   "cell_type": "code",
   "execution_count": 1,
   "metadata": {},
   "outputs": [
    {
     "name": "stdout",
     "output_type": "stream",
     "text": [
      "0.20.0\n"
     ]
    }
   ],
   "source": [
    "from itertools import chain\n",
    "import nltk\n",
    "from sklearn.metrics import classification_report, confusion_matrix\n",
    "from sklearn.preprocessing import LabelBinarizer\n",
    "import sklearn\n",
    "import pandas as pd\n",
    "import numpy as np\n",
    "from helper import accuracy, entity_count\n",
    "#import pycrfsuite\n",
    "\n",
    "print(sklearn.__version__)"
   ]
  },
  {
   "cell_type": "markdown",
   "metadata": {},
   "source": [
    "## 1. Load Data\n"
   ]
  },
  {
   "cell_type": "code",
   "execution_count": 2,
   "metadata": {},
   "outputs": [
    {
     "data": {
      "text/plain": [
       "['esp.testa', 'esp.testb', 'esp.train', 'ned.testa', 'ned.testb', 'ned.train']"
      ]
     },
     "execution_count": 2,
     "metadata": {},
     "output_type": "execute_result"
    }
   ],
   "source": [
    "nltk.corpus.conll2002.fileids()"
   ]
  },
  {
   "cell_type": "code",
   "execution_count": 3,
   "metadata": {},
   "outputs": [
    {
     "name": "stdout",
     "output_type": "stream",
     "text": [
      "CPU times: user 1.66 s, sys: 57.9 ms, total: 1.72 s\n",
      "Wall time: 1.86 s\n"
     ]
    }
   ],
   "source": [
    "%%time\n",
    "train_sents = list(nltk.corpus.conll2002.iob_sents('esp.train'))\n",
    "test_a_sents = list(nltk.corpus.conll2002.iob_sents('esp.testa'))\n",
    "test_b_sents = list(nltk.corpus.conll2002.iob_sents('esp.testb'))\n"
   ]
  },
  {
   "cell_type": "code",
   "execution_count": 4,
   "metadata": {},
   "outputs": [
    {
     "data": {
      "text/plain": [
       "[('Melbourne', 'NP', 'B-LOC'),\n",
       " ('(', 'Fpa', 'O'),\n",
       " ('Australia', 'NP', 'B-LOC'),\n",
       " (')', 'Fpt', 'O'),\n",
       " (',', 'Fc', 'O'),\n",
       " ('25', 'Z', 'O'),\n",
       " ('may', 'NC', 'O'),\n",
       " ('(', 'Fpa', 'O'),\n",
       " ('EFE', 'NC', 'B-ORG'),\n",
       " (')', 'Fpt', 'O'),\n",
       " ('.', 'Fp', 'O')]"
      ]
     },
     "execution_count": 4,
     "metadata": {},
     "output_type": "execute_result"
    }
   ],
   "source": [
    "train_sents[0]"
   ]
  },
  {
   "cell_type": "markdown",
   "metadata": {},
   "source": [
    "There are 6 tags:  \n",
    "    PER: Person  \n",
    "    ORG: Organization\n",
    "    LOC: location  \n",
    "    MISC: Miscellaneous (this represents things like products and nationalities)  \n",
    "    O: Not an entity\n",
    "    "
   ]
  },
  {
   "cell_type": "code",
   "execution_count": 5,
   "metadata": {},
   "outputs": [
    {
     "name": "stdout",
     "output_type": "stream",
     "text": [
      "8323\n",
      "1915\n",
      "1517\n"
     ]
    }
   ],
   "source": [
    "print(len(train_sents))\n",
    "print(len(test_a_sents))\n",
    "print(len(test_b_sents))"
   ]
  },
  {
   "cell_type": "code",
   "execution_count": 6,
   "metadata": {},
   "outputs": [],
   "source": [
    "N_sentences =len(train_sents)"
   ]
  },
  {
   "cell_type": "markdown",
   "metadata": {},
   "source": [
    "## 2. Preprocesing"
   ]
  },
  {
   "cell_type": "markdown",
   "metadata": {},
   "source": [
    "Defining functions to preprocesing of dataset"
   ]
  },
  {
   "cell_type": "code",
   "execution_count": 7,
   "metadata": {},
   "outputs": [],
   "source": [
    "def word2features(sent, i):\n",
    "    word = sent[i][0]\n",
    "    postag = sent[i][1]\n",
    "    features = [\n",
    "        'bias',\n",
    "        'word.lower=' + word.lower(),\n",
    "        'word[-3:]=' + word[-3:],\n",
    "        'word[-2:]=' + word[-2:],\n",
    "        'word.isupper=%s' % word.isupper(),\n",
    "        'word.istitle=%s' % word.istitle(),\n",
    "        'word.isdigit=%s' % word.isdigit(),\n",
    "        'postag=' + postag,\n",
    "        'postag[:2]=' + postag[:2],\n",
    "    ]\n",
    "    if i > 0:\n",
    "        word1 = sent[i-1][0]\n",
    "        postag1 = sent[i-1][1]\n",
    "        features.extend([\n",
    "            '-1:word.lower=' + word1.lower(),\n",
    "            '-1:word.istitle=%s' % word1.istitle(),\n",
    "            '-1:word.isupper=%s' % word1.isupper(),\n",
    "            '-1:postag=' + postag1,\n",
    "            '-1:postag[:2]=' + postag1[:2],\n",
    "        ])\n",
    "    else:\n",
    "        features.append('BOS')\n",
    "        \n",
    "    if i < len(sent)-1:\n",
    "        word1 = sent[i+1][0]\n",
    "        postag1 = sent[i+1][1]\n",
    "        features.extend([\n",
    "            '+1:word.lower=' + word1.lower(),\n",
    "            '+1:word.istitle=%s' % word1.istitle(),\n",
    "            '+1:word.isupper=%s' % word1.isupper(),\n",
    "            '+1:postag=' + postag1,\n",
    "            '+1:postag[:2]=' + postag1[:2],\n",
    "        ])\n",
    "    else:\n",
    "        features.append('EOS')\n",
    "                \n",
    "    return features\n",
    "\n"
   ]
  },
  {
   "cell_type": "markdown",
   "metadata": {},
   "source": [
    "Now, I am obtaing the tags of data"
   ]
  },
  {
   "cell_type": "code",
   "execution_count": 8,
   "metadata": {},
   "outputs": [],
   "source": [
    "def sent2labels(sent):\n",
    "    return [label for token, postag, label in sent]\n"
   ]
  },
  {
   "cell_type": "markdown",
   "metadata": {},
   "source": [
    "them, tokenizar cadena of text"
   ]
  },
  {
   "cell_type": "code",
   "execution_count": 9,
   "metadata": {},
   "outputs": [],
   "source": [
    "def sent2tokens(sent):\n",
    "    return [token for token, postag, label in sent]"
   ]
  },
  {
   "cell_type": "code",
   "execution_count": 10,
   "metadata": {},
   "outputs": [
    {
     "data": {
      "text/plain": [
       "['B-LOC', 'O', 'B-LOC', 'O', 'O', 'O', 'O', 'O', 'B-ORG', 'O', 'O']"
      ]
     },
     "execution_count": 10,
     "metadata": {},
     "output_type": "execute_result"
    }
   ],
   "source": [
    "sent2labels(train_sents[0])"
   ]
  },
  {
   "cell_type": "code",
   "execution_count": 11,
   "metadata": {},
   "outputs": [
    {
     "data": {
      "text/plain": [
       "['El',\n",
       " 'Abogado',\n",
       " 'General',\n",
       " 'del',\n",
       " 'Estado',\n",
       " ',',\n",
       " 'Daryl',\n",
       " 'Williams',\n",
       " ',',\n",
       " 'subrayó',\n",
       " 'hoy',\n",
       " 'la',\n",
       " 'necesidad',\n",
       " 'de',\n",
       " 'tomar',\n",
       " 'medidas',\n",
       " 'para',\n",
       " 'proteger',\n",
       " 'al',\n",
       " 'sistema',\n",
       " 'judicial',\n",
       " 'australiano',\n",
       " 'frente',\n",
       " 'a',\n",
       " 'una',\n",
       " 'página',\n",
       " 'de',\n",
       " 'internet',\n",
       " 'que',\n",
       " 'imposibilita',\n",
       " 'el',\n",
       " 'cumplimiento',\n",
       " 'de',\n",
       " 'los',\n",
       " 'principios',\n",
       " 'básicos',\n",
       " 'de',\n",
       " 'la',\n",
       " 'Ley',\n",
       " '.']"
      ]
     },
     "execution_count": 11,
     "metadata": {},
     "output_type": "execute_result"
    }
   ],
   "source": [
    "sent2tokens(train_sents[2])"
   ]
  },
  {
   "cell_type": "markdown",
   "metadata": {},
   "source": [
    "Now, I defining the count that use the tag in the dataset"
   ]
  },
  {
   "cell_type": "code",
   "execution_count": 12,
   "metadata": {},
   "outputs": [],
   "source": [
    "def find_states_counts(n_tag_sentences):\n",
    "    tags = []\n",
    "    #concatenate all tags\n",
    "    for i in range(n_tag_sentences):\n",
    "        tags = tags + sent2labels(train_sents[i])\n",
    "\n",
    "    #{'B-LOC', 'B-MISC', 'B-ORG', 'B-PER', 'I-LOC', 'I-MISC', 'I-ORG', 'I-PER', 'O'}\n",
    "    dic = dict()\n",
    "    states = set(tags) #set\n",
    "    states = dic.fromkeys(states,0)\n",
    "    \n",
    "    #count frecuency by tag\n",
    "    for f in range(n_tag_sentences):\n",
    "        tags = sent2labels(train_sents[f])\n",
    "        for t in tags:\n",
    "            states[t] = 1 + states[t]\n",
    "        \n",
    "    return states"
   ]
  },
  {
   "cell_type": "code",
   "execution_count": 13,
   "metadata": {},
   "outputs": [
    {
     "data": {
      "text/plain": [
       "{'I-LOC': 1891,\n",
       " 'B-PER': 4321,\n",
       " 'I-PER': 3903,\n",
       " 'I-ORG': 4992,\n",
       " 'B-ORG': 7390,\n",
       " 'B-MISC': 2173,\n",
       " 'I-MISC': 3212,\n",
       " 'O': 231920,\n",
       " 'B-LOC': 4913}"
      ]
     },
     "execution_count": 13,
     "metadata": {},
     "output_type": "execute_result"
    }
   ],
   "source": [
    "states = find_states_counts(N_sentences)                            \n",
    "N_STATES = len(states)\n",
    "states"
   ]
  },
  {
   "cell_type": "markdown",
   "metadata": {},
   "source": [
    "Calculating probabilities "
   ]
  },
  {
   "cell_type": "code",
   "execution_count": 14,
   "metadata": {},
   "outputs": [],
   "source": [
    "def calculate_start_prob(dic, total_sentences):\n",
    "    start_probabilities = {}\n",
    "    start_probabilities = start_probabilities.fromkeys(dic.keys(),0)\n",
    "    for i in range(N_sentences):\n",
    "        tag = sent2labels(train_sents[i])[0]\n",
    "        start_probabilities[tag] = 1+ start_probabilities[tag]\n",
    "    \n",
    "    total = sum(start_probabilities.values())\n",
    "    print(total)\n",
    "    \n",
    "    assert total == total_sentences, \"exist a problem, not equal sum...\"\n",
    "    \n",
    "    for i in start_probabilities:\n",
    "        start_probabilities[i] = float(start_probabilities[i]/total)\n",
    "    \n",
    "    assert 1.0 == sum(start_probabilities.values()), \"exist a problem, not equal to 1.0...\"\n",
    "    \n",
    "    return start_probabilities"
   ]
  },
  {
   "cell_type": "code",
   "execution_count": 15,
   "metadata": {},
   "outputs": [
    {
     "name": "stdout",
     "output_type": "stream",
     "text": [
      "8323\n"
     ]
    },
    {
     "data": {
      "text/plain": [
       "{'I-LOC': 0.00012014898474107894,\n",
       " 'B-PER': 0.07232968881412952,\n",
       " 'I-PER': 0.0,\n",
       " 'I-ORG': 0.0,\n",
       " 'B-ORG': 0.03556409948335937,\n",
       " 'B-MISC': 0.016099963955304577,\n",
       " 'I-MISC': 0.0,\n",
       " 'O': 0.7998317914213625,\n",
       " 'B-LOC': 0.07605430734110297}"
      ]
     },
     "execution_count": 15,
     "metadata": {},
     "output_type": "execute_result"
    }
   ],
   "source": [
    "initial_probabilities = calculate_start_prob(states,N_sentences)\n",
    "initial_probabilities"
   ]
  },
  {
   "cell_type": "markdown",
   "metadata": {},
   "source": [
    "### Matrix of Transition"
   ]
  },
  {
   "cell_type": "code",
   "execution_count": 16,
   "metadata": {},
   "outputs": [],
   "source": [
    "#Matriz de Transicion\n",
    "def matrix_transitions(states, n_states, n_sentences):\n",
    "    data = np.zeros([n_states, n_states], dtype = float)\n",
    "    transitions = pd.DataFrame(data, index= states.keys(),columns=states.keys())\n",
    "#    print('initial transitions: ',transitions)\n",
    "    for s in range(n_sentences):\n",
    "        tags = sent2labels(train_sents[s])\n",
    "        for j in range(len(tags)-1):\n",
    "            if tags[j]!=tags[j+1]:\n",
    "                transitions.at[tags[j],tags[j+1]] += 1\n",
    "                #print('->',tags[j],tags[j+1])\n",
    "    \n",
    " #   print('sums transitions: ',transitions)\n",
    "    for idx in transitions.index:\n",
    "        for  col in transitions.columns:\n",
    "            transitions[col][idx] /=  states[idx]    \n",
    "    return transitions"
   ]
  },
  {
   "cell_type": "code",
   "execution_count": 17,
   "metadata": {},
   "outputs": [
    {
     "data": {
      "text/html": [
       "<div>\n",
       "<style scoped>\n",
       "    .dataframe tbody tr th:only-of-type {\n",
       "        vertical-align: middle;\n",
       "    }\n",
       "\n",
       "    .dataframe tbody tr th {\n",
       "        vertical-align: top;\n",
       "    }\n",
       "\n",
       "    .dataframe thead th {\n",
       "        text-align: right;\n",
       "    }\n",
       "</style>\n",
       "<table border=\"1\" class=\"dataframe\">\n",
       "  <thead>\n",
       "    <tr style=\"text-align: right;\">\n",
       "      <th></th>\n",
       "      <th>I-LOC</th>\n",
       "      <th>B-PER</th>\n",
       "      <th>I-PER</th>\n",
       "      <th>I-ORG</th>\n",
       "      <th>B-ORG</th>\n",
       "      <th>B-MISC</th>\n",
       "      <th>I-MISC</th>\n",
       "      <th>O</th>\n",
       "      <th>B-LOC</th>\n",
       "    </tr>\n",
       "  </thead>\n",
       "  <tbody>\n",
       "    <tr>\n",
       "      <th>I-LOC</th>\n",
       "      <td>0.000000</td>\n",
       "      <td>0.000000</td>\n",
       "      <td>0.000000</td>\n",
       "      <td>0.000000</td>\n",
       "      <td>0.000000</td>\n",
       "      <td>0.000000</td>\n",
       "      <td>0.000000</td>\n",
       "      <td>0.563194</td>\n",
       "      <td>0.001058</td>\n",
       "    </tr>\n",
       "    <tr>\n",
       "      <th>B-PER</th>\n",
       "      <td>0.000000</td>\n",
       "      <td>0.000000</td>\n",
       "      <td>0.665587</td>\n",
       "      <td>0.000000</td>\n",
       "      <td>0.000231</td>\n",
       "      <td>0.000000</td>\n",
       "      <td>0.000000</td>\n",
       "      <td>0.333256</td>\n",
       "      <td>0.000694</td>\n",
       "    </tr>\n",
       "    <tr>\n",
       "      <th>I-PER</th>\n",
       "      <td>0.000000</td>\n",
       "      <td>0.001537</td>\n",
       "      <td>0.000000</td>\n",
       "      <td>0.000000</td>\n",
       "      <td>0.000000</td>\n",
       "      <td>0.000000</td>\n",
       "      <td>0.000000</td>\n",
       "      <td>0.729439</td>\n",
       "      <td>0.005893</td>\n",
       "    </tr>\n",
       "    <tr>\n",
       "      <th>I-ORG</th>\n",
       "      <td>0.000000</td>\n",
       "      <td>0.004006</td>\n",
       "      <td>0.000000</td>\n",
       "      <td>0.000000</td>\n",
       "      <td>0.000601</td>\n",
       "      <td>0.000200</td>\n",
       "      <td>0.000000</td>\n",
       "      <td>0.443910</td>\n",
       "      <td>0.000401</td>\n",
       "    </tr>\n",
       "    <tr>\n",
       "      <th>B-ORG</th>\n",
       "      <td>0.000000</td>\n",
       "      <td>0.005954</td>\n",
       "      <td>0.000000</td>\n",
       "      <td>0.303383</td>\n",
       "      <td>0.000000</td>\n",
       "      <td>0.000135</td>\n",
       "      <td>0.000000</td>\n",
       "      <td>0.686333</td>\n",
       "      <td>0.004060</td>\n",
       "    </tr>\n",
       "    <tr>\n",
       "      <th>B-MISC</th>\n",
       "      <td>0.000000</td>\n",
       "      <td>0.003221</td>\n",
       "      <td>0.000000</td>\n",
       "      <td>0.000000</td>\n",
       "      <td>0.004602</td>\n",
       "      <td>0.000000</td>\n",
       "      <td>0.577543</td>\n",
       "      <td>0.411873</td>\n",
       "      <td>0.002761</td>\n",
       "    </tr>\n",
       "    <tr>\n",
       "      <th>I-MISC</th>\n",
       "      <td>0.000000</td>\n",
       "      <td>0.002491</td>\n",
       "      <td>0.000000</td>\n",
       "      <td>0.000000</td>\n",
       "      <td>0.000623</td>\n",
       "      <td>0.002179</td>\n",
       "      <td>0.000000</td>\n",
       "      <td>0.383562</td>\n",
       "      <td>0.000934</td>\n",
       "    </tr>\n",
       "    <tr>\n",
       "      <th>O</th>\n",
       "      <td>0.000000</td>\n",
       "      <td>0.015609</td>\n",
       "      <td>0.000000</td>\n",
       "      <td>0.000000</td>\n",
       "      <td>0.030515</td>\n",
       "      <td>0.008753</td>\n",
       "      <td>0.000000</td>\n",
       "      <td>0.000000</td>\n",
       "      <td>0.018045</td>\n",
       "    </tr>\n",
       "    <tr>\n",
       "      <th>B-LOC</th>\n",
       "      <td>0.216975</td>\n",
       "      <td>0.002646</td>\n",
       "      <td>0.000000</td>\n",
       "      <td>0.000000</td>\n",
       "      <td>0.000000</td>\n",
       "      <td>0.000000</td>\n",
       "      <td>0.000000</td>\n",
       "      <td>0.774883</td>\n",
       "      <td>0.000000</td>\n",
       "    </tr>\n",
       "  </tbody>\n",
       "</table>\n",
       "</div>"
      ],
      "text/plain": [
       "           I-LOC     B-PER     I-PER     I-ORG     B-ORG    B-MISC    I-MISC  \\\n",
       "I-LOC   0.000000  0.000000  0.000000  0.000000  0.000000  0.000000  0.000000   \n",
       "B-PER   0.000000  0.000000  0.665587  0.000000  0.000231  0.000000  0.000000   \n",
       "I-PER   0.000000  0.001537  0.000000  0.000000  0.000000  0.000000  0.000000   \n",
       "I-ORG   0.000000  0.004006  0.000000  0.000000  0.000601  0.000200  0.000000   \n",
       "B-ORG   0.000000  0.005954  0.000000  0.303383  0.000000  0.000135  0.000000   \n",
       "B-MISC  0.000000  0.003221  0.000000  0.000000  0.004602  0.000000  0.577543   \n",
       "I-MISC  0.000000  0.002491  0.000000  0.000000  0.000623  0.002179  0.000000   \n",
       "O       0.000000  0.015609  0.000000  0.000000  0.030515  0.008753  0.000000   \n",
       "B-LOC   0.216975  0.002646  0.000000  0.000000  0.000000  0.000000  0.000000   \n",
       "\n",
       "               O     B-LOC  \n",
       "I-LOC   0.563194  0.001058  \n",
       "B-PER   0.333256  0.000694  \n",
       "I-PER   0.729439  0.005893  \n",
       "I-ORG   0.443910  0.000401  \n",
       "B-ORG   0.686333  0.004060  \n",
       "B-MISC  0.411873  0.002761  \n",
       "I-MISC  0.383562  0.000934  \n",
       "O       0.000000  0.018045  \n",
       "B-LOC   0.774883  0.000000  "
      ]
     },
     "execution_count": 17,
     "metadata": {},
     "output_type": "execute_result"
    }
   ],
   "source": [
    "transitions = matrix_transitions(states, N_STATES,N_sentences)\n",
    "transitions"
   ]
  },
  {
   "cell_type": "markdown",
   "metadata": {},
   "source": [
    "### Matrix of emision"
   ]
  },
  {
   "cell_type": "code",
   "execution_count": 18,
   "metadata": {},
   "outputs": [],
   "source": [
    "len(sent2tokens(train_sents[2]))\n",
    "all_sentences = []\n",
    "for s in range(N_sentences):\n",
    "    all_sentences += sent2tokens(train_sents[s])\n",
    "    \n",
    "len(all_sentences)\n",
    "all_sentences = set(all_sentences) #set\n",
    "all_sentences = list(all_sentences)\n",
    "N_WORDS = len(all_sentences)\n",
    "\n",
    "data = np.zeros([N_STATES, N_WORDS], dtype = float)\n",
    "emissions = pd.DataFrame(data, index= states.keys(),columns=all_sentences)\n",
    "\n",
    "def calculated_emissions():\n",
    "    for index in range(N_sentences):\n",
    "        sentence = sent2tokens(train_sents[index])\n",
    "        tags = sent2labels(train_sents[index])\n",
    "\n",
    "        for j in range(len(tags)):\n",
    "            emissions[sentence[j]][tags[j]] += 1\n",
    "    \n",
    "    for idx in emissions.index:\n",
    "        for col in emissions.columns:\n",
    "            if states[idx] != 0:\n",
    "                emissions[col][idx] /= states[idx]\n",
    "            #print(emissions[sentence[j]][tags[j]])"
   ]
  },
  {
   "cell_type": "code",
   "execution_count": 19,
   "metadata": {},
   "outputs": [
    {
     "data": {
      "text/html": [
       "<div>\n",
       "<style scoped>\n",
       "    .dataframe tbody tr th:only-of-type {\n",
       "        vertical-align: middle;\n",
       "    }\n",
       "\n",
       "    .dataframe tbody tr th {\n",
       "        vertical-align: top;\n",
       "    }\n",
       "\n",
       "    .dataframe thead th {\n",
       "        text-align: right;\n",
       "    }\n",
       "</style>\n",
       "<table border=\"1\" class=\"dataframe\">\n",
       "  <thead>\n",
       "    <tr style=\"text-align: right;\">\n",
       "      <th></th>\n",
       "      <th>siguieron</th>\n",
       "      <th>recorre</th>\n",
       "      <th>israelí</th>\n",
       "      <th>Venancio</th>\n",
       "      <th>ineludible</th>\n",
       "      <th>iguanodontes</th>\n",
       "      <th>reunirse</th>\n",
       "      <th>7,70</th>\n",
       "      <th>Secretaría</th>\n",
       "      <th>coyuntural</th>\n",
       "      <th>...</th>\n",
       "      <th>ratificaron</th>\n",
       "      <th>Lobato</th>\n",
       "      <th>13.60</th>\n",
       "      <th>querían</th>\n",
       "      <th>21.53</th>\n",
       "      <th>costo</th>\n",
       "      <th>coaccionar</th>\n",
       "      <th>mío</th>\n",
       "      <th>513</th>\n",
       "      <th>demandada</th>\n",
       "    </tr>\n",
       "  </thead>\n",
       "  <tbody>\n",
       "    <tr>\n",
       "      <th>I-LOC</th>\n",
       "      <td>0.000000</td>\n",
       "      <td>0.000000</td>\n",
       "      <td>0.000000</td>\n",
       "      <td>0.000000</td>\n",
       "      <td>0.000000</td>\n",
       "      <td>0.000000</td>\n",
       "      <td>0.000000</td>\n",
       "      <td>0.000000</td>\n",
       "      <td>0.000000</td>\n",
       "      <td>0.000000</td>\n",
       "      <td>...</td>\n",
       "      <td>0.000000</td>\n",
       "      <td>0.000000</td>\n",
       "      <td>0.000000</td>\n",
       "      <td>0.000000</td>\n",
       "      <td>0.000000</td>\n",
       "      <td>0.000000</td>\n",
       "      <td>0.000000</td>\n",
       "      <td>0.000000</td>\n",
       "      <td>0.000000</td>\n",
       "      <td>0.000000</td>\n",
       "    </tr>\n",
       "    <tr>\n",
       "      <th>B-PER</th>\n",
       "      <td>0.000000</td>\n",
       "      <td>0.000000</td>\n",
       "      <td>0.000000</td>\n",
       "      <td>0.000231</td>\n",
       "      <td>0.000000</td>\n",
       "      <td>0.000000</td>\n",
       "      <td>0.000000</td>\n",
       "      <td>0.000000</td>\n",
       "      <td>0.000000</td>\n",
       "      <td>0.000000</td>\n",
       "      <td>...</td>\n",
       "      <td>0.000000</td>\n",
       "      <td>0.000000</td>\n",
       "      <td>0.000000</td>\n",
       "      <td>0.000000</td>\n",
       "      <td>0.000000</td>\n",
       "      <td>0.000000</td>\n",
       "      <td>0.000000</td>\n",
       "      <td>0.000000</td>\n",
       "      <td>0.000000</td>\n",
       "      <td>0.000000</td>\n",
       "    </tr>\n",
       "    <tr>\n",
       "      <th>I-PER</th>\n",
       "      <td>0.000000</td>\n",
       "      <td>0.000000</td>\n",
       "      <td>0.000000</td>\n",
       "      <td>0.000000</td>\n",
       "      <td>0.000000</td>\n",
       "      <td>0.000000</td>\n",
       "      <td>0.000000</td>\n",
       "      <td>0.000000</td>\n",
       "      <td>0.000000</td>\n",
       "      <td>0.000000</td>\n",
       "      <td>...</td>\n",
       "      <td>0.000000</td>\n",
       "      <td>0.000256</td>\n",
       "      <td>0.000000</td>\n",
       "      <td>0.000000</td>\n",
       "      <td>0.000000</td>\n",
       "      <td>0.000000</td>\n",
       "      <td>0.000000</td>\n",
       "      <td>0.000000</td>\n",
       "      <td>0.000000</td>\n",
       "      <td>0.000000</td>\n",
       "    </tr>\n",
       "    <tr>\n",
       "      <th>I-ORG</th>\n",
       "      <td>0.000000</td>\n",
       "      <td>0.000000</td>\n",
       "      <td>0.000000</td>\n",
       "      <td>0.000000</td>\n",
       "      <td>0.000000</td>\n",
       "      <td>0.000000</td>\n",
       "      <td>0.000000</td>\n",
       "      <td>0.000000</td>\n",
       "      <td>0.000000</td>\n",
       "      <td>0.000000</td>\n",
       "      <td>...</td>\n",
       "      <td>0.000000</td>\n",
       "      <td>0.000000</td>\n",
       "      <td>0.000000</td>\n",
       "      <td>0.000000</td>\n",
       "      <td>0.000000</td>\n",
       "      <td>0.000000</td>\n",
       "      <td>0.000000</td>\n",
       "      <td>0.000000</td>\n",
       "      <td>0.000000</td>\n",
       "      <td>0.000000</td>\n",
       "    </tr>\n",
       "    <tr>\n",
       "      <th>B-ORG</th>\n",
       "      <td>0.000000</td>\n",
       "      <td>0.000000</td>\n",
       "      <td>0.000000</td>\n",
       "      <td>0.000000</td>\n",
       "      <td>0.000000</td>\n",
       "      <td>0.000000</td>\n",
       "      <td>0.000000</td>\n",
       "      <td>0.000000</td>\n",
       "      <td>0.000406</td>\n",
       "      <td>0.000000</td>\n",
       "      <td>...</td>\n",
       "      <td>0.000000</td>\n",
       "      <td>0.000000</td>\n",
       "      <td>0.000000</td>\n",
       "      <td>0.000000</td>\n",
       "      <td>0.000000</td>\n",
       "      <td>0.000000</td>\n",
       "      <td>0.000000</td>\n",
       "      <td>0.000000</td>\n",
       "      <td>0.000000</td>\n",
       "      <td>0.000000</td>\n",
       "    </tr>\n",
       "    <tr>\n",
       "      <th>B-MISC</th>\n",
       "      <td>0.000000</td>\n",
       "      <td>0.000000</td>\n",
       "      <td>0.000000</td>\n",
       "      <td>0.000000</td>\n",
       "      <td>0.000000</td>\n",
       "      <td>0.000000</td>\n",
       "      <td>0.000000</td>\n",
       "      <td>0.000000</td>\n",
       "      <td>0.000000</td>\n",
       "      <td>0.000000</td>\n",
       "      <td>...</td>\n",
       "      <td>0.000000</td>\n",
       "      <td>0.000000</td>\n",
       "      <td>0.000000</td>\n",
       "      <td>0.000000</td>\n",
       "      <td>0.000000</td>\n",
       "      <td>0.000000</td>\n",
       "      <td>0.000000</td>\n",
       "      <td>0.000000</td>\n",
       "      <td>0.000000</td>\n",
       "      <td>0.000000</td>\n",
       "    </tr>\n",
       "    <tr>\n",
       "      <th>I-MISC</th>\n",
       "      <td>0.000000</td>\n",
       "      <td>0.000000</td>\n",
       "      <td>0.000000</td>\n",
       "      <td>0.000000</td>\n",
       "      <td>0.000000</td>\n",
       "      <td>0.000000</td>\n",
       "      <td>0.000000</td>\n",
       "      <td>0.000000</td>\n",
       "      <td>0.000000</td>\n",
       "      <td>0.000000</td>\n",
       "      <td>...</td>\n",
       "      <td>0.000000</td>\n",
       "      <td>0.000000</td>\n",
       "      <td>0.000000</td>\n",
       "      <td>0.000000</td>\n",
       "      <td>0.000000</td>\n",
       "      <td>0.000000</td>\n",
       "      <td>0.000000</td>\n",
       "      <td>0.000000</td>\n",
       "      <td>0.000000</td>\n",
       "      <td>0.000000</td>\n",
       "    </tr>\n",
       "    <tr>\n",
       "      <th>O</th>\n",
       "      <td>0.000004</td>\n",
       "      <td>0.000004</td>\n",
       "      <td>0.000289</td>\n",
       "      <td>0.000000</td>\n",
       "      <td>0.000013</td>\n",
       "      <td>0.000004</td>\n",
       "      <td>0.000013</td>\n",
       "      <td>0.000004</td>\n",
       "      <td>0.000000</td>\n",
       "      <td>0.000004</td>\n",
       "      <td>...</td>\n",
       "      <td>0.000009</td>\n",
       "      <td>0.000000</td>\n",
       "      <td>0.000013</td>\n",
       "      <td>0.000004</td>\n",
       "      <td>0.000009</td>\n",
       "      <td>0.000017</td>\n",
       "      <td>0.000009</td>\n",
       "      <td>0.000009</td>\n",
       "      <td>0.000004</td>\n",
       "      <td>0.000004</td>\n",
       "    </tr>\n",
       "    <tr>\n",
       "      <th>B-LOC</th>\n",
       "      <td>0.000000</td>\n",
       "      <td>0.000000</td>\n",
       "      <td>0.000000</td>\n",
       "      <td>0.000000</td>\n",
       "      <td>0.000000</td>\n",
       "      <td>0.000000</td>\n",
       "      <td>0.000000</td>\n",
       "      <td>0.000000</td>\n",
       "      <td>0.000204</td>\n",
       "      <td>0.000000</td>\n",
       "      <td>...</td>\n",
       "      <td>0.000000</td>\n",
       "      <td>0.000000</td>\n",
       "      <td>0.000000</td>\n",
       "      <td>0.000000</td>\n",
       "      <td>0.000000</td>\n",
       "      <td>0.000000</td>\n",
       "      <td>0.000000</td>\n",
       "      <td>0.000000</td>\n",
       "      <td>0.000000</td>\n",
       "      <td>0.000000</td>\n",
       "    </tr>\n",
       "  </tbody>\n",
       "</table>\n",
       "<p>9 rows × 26099 columns</p>\n",
       "</div>"
      ],
      "text/plain": [
       "        siguieron   recorre   israelí  Venancio  ineludible  iguanodontes  \\\n",
       "I-LOC    0.000000  0.000000  0.000000  0.000000    0.000000      0.000000   \n",
       "B-PER    0.000000  0.000000  0.000000  0.000231    0.000000      0.000000   \n",
       "I-PER    0.000000  0.000000  0.000000  0.000000    0.000000      0.000000   \n",
       "I-ORG    0.000000  0.000000  0.000000  0.000000    0.000000      0.000000   \n",
       "B-ORG    0.000000  0.000000  0.000000  0.000000    0.000000      0.000000   \n",
       "B-MISC   0.000000  0.000000  0.000000  0.000000    0.000000      0.000000   \n",
       "I-MISC   0.000000  0.000000  0.000000  0.000000    0.000000      0.000000   \n",
       "O        0.000004  0.000004  0.000289  0.000000    0.000013      0.000004   \n",
       "B-LOC    0.000000  0.000000  0.000000  0.000000    0.000000      0.000000   \n",
       "\n",
       "        reunirse      7,70  Secretaría  coyuntural    ...      ratificaron  \\\n",
       "I-LOC   0.000000  0.000000    0.000000    0.000000    ...         0.000000   \n",
       "B-PER   0.000000  0.000000    0.000000    0.000000    ...         0.000000   \n",
       "I-PER   0.000000  0.000000    0.000000    0.000000    ...         0.000000   \n",
       "I-ORG   0.000000  0.000000    0.000000    0.000000    ...         0.000000   \n",
       "B-ORG   0.000000  0.000000    0.000406    0.000000    ...         0.000000   \n",
       "B-MISC  0.000000  0.000000    0.000000    0.000000    ...         0.000000   \n",
       "I-MISC  0.000000  0.000000    0.000000    0.000000    ...         0.000000   \n",
       "O       0.000013  0.000004    0.000000    0.000004    ...         0.000009   \n",
       "B-LOC   0.000000  0.000000    0.000204    0.000000    ...         0.000000   \n",
       "\n",
       "          Lobato     13.60   querían     21.53     costo  coaccionar  \\\n",
       "I-LOC   0.000000  0.000000  0.000000  0.000000  0.000000    0.000000   \n",
       "B-PER   0.000000  0.000000  0.000000  0.000000  0.000000    0.000000   \n",
       "I-PER   0.000256  0.000000  0.000000  0.000000  0.000000    0.000000   \n",
       "I-ORG   0.000000  0.000000  0.000000  0.000000  0.000000    0.000000   \n",
       "B-ORG   0.000000  0.000000  0.000000  0.000000  0.000000    0.000000   \n",
       "B-MISC  0.000000  0.000000  0.000000  0.000000  0.000000    0.000000   \n",
       "I-MISC  0.000000  0.000000  0.000000  0.000000  0.000000    0.000000   \n",
       "O       0.000000  0.000013  0.000004  0.000009  0.000017    0.000009   \n",
       "B-LOC   0.000000  0.000000  0.000000  0.000000  0.000000    0.000000   \n",
       "\n",
       "             mío       513  demandada  \n",
       "I-LOC   0.000000  0.000000   0.000000  \n",
       "B-PER   0.000000  0.000000   0.000000  \n",
       "I-PER   0.000000  0.000000   0.000000  \n",
       "I-ORG   0.000000  0.000000   0.000000  \n",
       "B-ORG   0.000000  0.000000   0.000000  \n",
       "B-MISC  0.000000  0.000000   0.000000  \n",
       "I-MISC  0.000000  0.000000   0.000000  \n",
       "O       0.000009  0.000004   0.000004  \n",
       "B-LOC   0.000000  0.000000   0.000000  \n",
       "\n",
       "[9 rows x 26099 columns]"
      ]
     },
     "execution_count": 19,
     "metadata": {},
     "output_type": "execute_result"
    }
   ],
   "source": [
    "calculated_emissions()\n",
    "emissions\n"
   ]
  },
  {
   "cell_type": "code",
   "execution_count": 20,
   "metadata": {},
   "outputs": [],
   "source": [
    "def transition(ei_row,ef_col):\n",
    "    return transitions[ef_col][ei_row]\n",
    "\n",
    "def emission(ei_row,ef_col):\n",
    "    return emissions[ef_col][ei_row]\n",
    "\n",
    "def max_p(f1,f2):\n",
    "    maximo = f1 if f1 >= f2 else f2\n",
    "    return maximo\n"
   ]
  },
  {
   "cell_type": "code",
   "execution_count": 21,
   "metadata": {},
   "outputs": [
    {
     "data": {
      "text/plain": [
       "0.5631940772078265"
      ]
     },
     "execution_count": 21,
     "metadata": {},
     "output_type": "execute_result"
    }
   ],
   "source": [
    "transition('I-LOC','O')"
   ]
  },
  {
   "cell_type": "markdown",
   "metadata": {},
   "source": [
    "### Viterbi"
   ]
  },
  {
   "cell_type": "code",
   "execution_count": 25,
   "metadata": {},
   "outputs": [],
   "source": [
    "def algoritm_viterbi(sequence):\n",
    "    tags_rpta = []\n",
    "    for st in states:\n",
    "        dv_table.at[st,0] = initial_probabilities[st] + emission(st,sequence[0]) \n",
    "        for i in range(1,len(sequence),1):\n",
    "            for st in states:\n",
    "                #probabilidades del estado anterior\n",
    "                col_dv_table = dv_table.loc[:,i-1] #probabilidades P(t-1)\n",
    "                col_dv_table = np.array(col_dv_table)\n",
    "\n",
    "                 #probabilidades de transicion S(t-1)->S(t)\n",
    "                row_transition = transitions.loc[st,:]\n",
    "                row_transition = np.array(row_transition)\n",
    "\n",
    "                m = col_dv_table + row_transition\n",
    "                p = emission(st,sequence[i]) + np.max(m)\n",
    "                dv_table.at[st,i] = p\n",
    "    \n",
    "    for i in range(len(sequence)):\n",
    "        col = dv_table.loc[dv_table[i].idxmax()]\n",
    "        tags_rpta.append(col.name)\n",
    "    return tags_rpta"
   ]
  },
  {
   "cell_type": "markdown",
   "metadata": {},
   "source": [
    "## 3. Test"
   ]
  },
  {
   "cell_type": "code",
   "execution_count": 30,
   "metadata": {},
   "outputs": [],
   "source": [
    "idx=2\n",
    "sequence = ['El', 'Abogado', 'General']\n",
    "l_seq = len(sequence)\n",
    "data = np.zeros([N_STATES,l_seq])\n",
    "dv_table = pd.DataFrame(data,index=states,columns=np.arange(l_seq))\n"
   ]
  },
  {
   "cell_type": "code",
   "execution_count": 31,
   "metadata": {},
   "outputs": [
    {
     "data": {
      "text/html": [
       "<div>\n",
       "<style scoped>\n",
       "    .dataframe tbody tr th:only-of-type {\n",
       "        vertical-align: middle;\n",
       "    }\n",
       "\n",
       "    .dataframe tbody tr th {\n",
       "        vertical-align: top;\n",
       "    }\n",
       "\n",
       "    .dataframe thead th {\n",
       "        text-align: right;\n",
       "    }\n",
       "</style>\n",
       "<table border=\"1\" class=\"dataframe\">\n",
       "  <thead>\n",
       "    <tr style=\"text-align: right;\">\n",
       "      <th></th>\n",
       "      <th>0</th>\n",
       "      <th>1</th>\n",
       "      <th>2</th>\n",
       "    </tr>\n",
       "  </thead>\n",
       "  <tbody>\n",
       "    <tr>\n",
       "      <th>I-LOC</th>\n",
       "      <td>0.000120</td>\n",
       "      <td>1.368493</td>\n",
       "      <td>1.581769</td>\n",
       "    </tr>\n",
       "    <tr>\n",
       "      <th>B-PER</th>\n",
       "      <td>0.073255</td>\n",
       "      <td>1.139250</td>\n",
       "      <td>2.200325</td>\n",
       "    </tr>\n",
       "    <tr>\n",
       "      <th>I-PER</th>\n",
       "      <td>0.000512</td>\n",
       "      <td>1.534738</td>\n",
       "      <td>1.587356</td>\n",
       "    </tr>\n",
       "    <tr>\n",
       "      <th>I-ORG</th>\n",
       "      <td>0.002204</td>\n",
       "      <td>1.249209</td>\n",
       "      <td>1.584790</td>\n",
       "    </tr>\n",
       "    <tr>\n",
       "      <th>B-ORG</th>\n",
       "      <td>0.036782</td>\n",
       "      <td>1.491632</td>\n",
       "      <td>1.585054</td>\n",
       "    </tr>\n",
       "    <tr>\n",
       "      <th>B-MISC</th>\n",
       "      <td>0.020702</td>\n",
       "      <td>1.217172</td>\n",
       "      <td>1.766403</td>\n",
       "    </tr>\n",
       "    <tr>\n",
       "      <th>I-MISC</th>\n",
       "      <td>0.002491</td>\n",
       "      <td>1.188861</td>\n",
       "      <td>1.583607</td>\n",
       "    </tr>\n",
       "    <tr>\n",
       "      <th>O</th>\n",
       "      <td>0.805299</td>\n",
       "      <td>0.805299</td>\n",
       "      <td>1.598227</td>\n",
       "    </tr>\n",
       "    <tr>\n",
       "      <th>B-LOC</th>\n",
       "      <td>0.080329</td>\n",
       "      <td>1.580182</td>\n",
       "      <td>1.585469</td>\n",
       "    </tr>\n",
       "  </tbody>\n",
       "</table>\n",
       "</div>"
      ],
      "text/plain": [
       "               0         1         2\n",
       "I-LOC   0.000120  1.368493  1.581769\n",
       "B-PER   0.073255  1.139250  2.200325\n",
       "I-PER   0.000512  1.534738  1.587356\n",
       "I-ORG   0.002204  1.249209  1.584790\n",
       "B-ORG   0.036782  1.491632  1.585054\n",
       "B-MISC  0.020702  1.217172  1.766403\n",
       "I-MISC  0.002491  1.188861  1.583607\n",
       "O       0.805299  0.805299  1.598227\n",
       "B-LOC   0.080329  1.580182  1.585469"
      ]
     },
     "execution_count": 31,
     "metadata": {},
     "output_type": "execute_result"
    }
   ],
   "source": [
    "tags = algoritm_viterbi(sequence)\n",
    "tags\n",
    "dv_table\n"
   ]
  },
  {
   "cell_type": "markdown",
   "metadata": {},
   "source": [
    "## 4. Conclusion"
   ]
  },
  {
   "cell_type": "markdown",
   "metadata": {},
   "source": [
    "4.1 The data set conll2002 (esp) of nltk is used  \n",
    "4.2 To this end, the data set is included, the calculation of the parameters of the model by means of frequency counting  \n",
    "4.3 I used the Viterbi algorithm for the decoding of sentences is implemented."
   ]
  },
  {
   "cell_type": "markdown",
   "metadata": {},
   "source": [
    "## 5. References\n"
   ]
  },
  {
   "cell_type": "markdown",
   "metadata": {},
   "source": [
    "[1] https://github.com/oucler/HMM-Tagger/blob/master/HMM%20Tagger.ipynb  \n",
    "[2] https://github.com/scrapinghub/python-crfsuite/blob/master/examples/CoNLL%202002.ipynb  \n",
    "[3] https://github.com/udacity/hmm-tagger/blob/master/HMM%20Tagger.ipynb   \n",
    "[4] https://github.com/lopatovsky/HMMs/blob/master/hmms.ipynb    \n",
    "[5] https://github.com/hankcs/hidden-markov-model/blob/master/test.py   \n",
    "[6] https://github.com/oucler/HMM-Tagger   \n",
    "[7] https://github.com/oucler/HMM-Tagger/blob/master/HMM%20Tagger.ipynb   \n",
    "[8] https://github.com/udacity/hmm-tagger/blob/master/HMM%20warmup%20(optional).ipynb   \n",
    "[9] https://github.com/thjashin/hmm/blob/master/hmm.ipynb  \n"
   ]
  }
 ],
 "metadata": {
  "kernelspec": {
   "display_name": "myenv",
   "language": "python",
   "name": "myenv"
  },
  "language_info": {
   "codemirror_mode": {
    "name": "ipython",
    "version": 3
   },
   "file_extension": ".py",
   "mimetype": "text/x-python",
   "name": "python",
   "nbconvert_exporter": "python",
   "pygments_lexer": "ipython3",
   "version": "3.6.6"
  }
 },
 "nbformat": 4,
 "nbformat_minor": 2
}
